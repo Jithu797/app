{
 "cells": [
  {
   "cell_type": "code",
   "execution_count": 1,
   "id": "fa33ed7b",
   "metadata": {},
   "outputs": [],
   "source": [
    "import numpy as np\n",
    "import matplotlib.pyplot as plt\n",
    "import seaborn as sns\n",
    "%matplotlib inline\n",
    "\n",
    "import cv2\n",
    "import os\n",
    "os.environ[\"TF_CPP_MIN_LOG_LEVEL\"] = \"2\"\n",
    "import warnings\n",
    "warnings.filterwarnings('ignore')\n",
    "\n",
    "from sklearn.metrics import confusion_matrix, classification_report\n",
    "\n",
    "import tensorflow as tf\n",
    "from tensorflow.keras.models import Sequential\n",
    "from tensorflow.keras.layers import Activation, BatchNormalization, Conv2D, Dense, Dropout, Flatten, MaxPooling2D\n",
    "from tensorflow.keras.preprocessing.image import ImageDataGenerator\n",
    "from tensorflow.keras.optimizers import Adam\n",
    "from tensorflow.keras.losses import CategoricalCrossentropy\n",
    "from tensorflow.keras.regularizers import l2\n",
    "from tensorflow.keras.callbacks import ReduceLROnPlateau, EarlyStopping"
   ]
  },
  {
   "cell_type": "code",
   "execution_count": 2,
   "id": "cc935cb6",
   "metadata": {},
   "outputs": [],
   "source": [
    "train_dataset_path = 'Train/'\n",
    "test_dataset = 'Test/'"
   ]
  },
  {
   "cell_type": "code",
   "execution_count": 3,
   "id": "1ad07204",
   "metadata": {},
   "outputs": [],
   "source": [
    "IMG_WIDTH = 150\n",
    "IMG_HEIGHT = 150\n",
    "BATCH_SIZE = 32"
   ]
  },
  {
   "cell_type": "code",
   "execution_count": 4,
   "id": "35613205",
   "metadata": {},
   "outputs": [
    {
     "name": "stdout",
     "output_type": "stream",
     "text": [
      "Found 6144 images belonging to 5 classes.\n"
     ]
    }
   ],
   "source": [
    "train_datagen = ImageDataGenerator(rescale=1.0/255,\n",
    "                                  zoom_range=0.2,\n",
    "                                  width_shift_range=0.2,\n",
    "                                  height_shift_range=0.2,\n",
    "                                  fill_mode='nearest')\n",
    "train_generator = train_datagen.flow_from_directory(train_dataset_path,\n",
    "                                                   target_size=(IMG_WIDTH, IMG_HEIGHT),\n",
    "                                                   batch_size=BATCH_SIZE,\n",
    "                                                   class_mode='categorical',\n",
    "                                                   shuffle=True)"
   ]
  },
  {
   "cell_type": "code",
   "execution_count": 5,
   "id": "16cca1c0",
   "metadata": {},
   "outputs": [
    {
     "name": "stdout",
     "output_type": "stream",
     "text": [
      "Found 1354 images belonging to 5 classes.\n"
     ]
    }
   ],
   "source": [
    "validation_datagen = ImageDataGenerator(rescale=1.0/255)\n",
    "validation_generator = validation_datagen.flow_from_directory(test_dataset,\n",
    "                                                             target_size=(IMG_WIDTH, IMG_HEIGHT),\n",
    "                                                             batch_size=BATCH_SIZE,\n",
    "                                                             class_mode='categorical',\n",
    "                                                             shuffle=True)"
   ]
  },
  {
   "cell_type": "code",
   "execution_count": 6,
   "id": "0d8fb9e1",
   "metadata": {},
   "outputs": [
    {
     "name": "stdout",
     "output_type": "stream",
     "text": [
      "Label Mappings for classes present in the training and validation datasets\n",
      "\n",
      "0 : Cataract\n",
      "1 : Diabetes\n",
      "2 : Glaucoma\n",
      "3 : Normal\n",
      "4 : Other\n"
     ]
    }
   ],
   "source": [
    "labels = {value: key for key, value in train_generator.class_indices.items()}\n",
    "\n",
    "print(\"Label Mappings for classes present in the training and validation datasets\\n\")\n",
    "for key, value in labels.items():\n",
    "    print(f\"{key} : {value}\")"
   ]
  },
  {
   "cell_type": "code",
   "execution_count": 22,
   "id": "7d421ced",
   "metadata": {},
   "outputs": [],
   "source": [
    "def create_model():\n",
    "    with tf.device('/gpu:0'):\n",
    "\n",
    "        model = Sequential([\n",
    "            Conv2D(filters=128, kernel_size=(5, 5), padding='valid', input_shape=(IMG_WIDTH, IMG_HEIGHT, 3)),\n",
    "            Activation('relu'),\n",
    "            MaxPooling2D(pool_size=(2, 2)),\n",
    "            BatchNormalization(),\n",
    "\n",
    "            Conv2D(filters=64, kernel_size=(3, 3), padding='valid', kernel_regularizer=l2(0.00005)),\n",
    "            Activation('relu'),\n",
    "            MaxPooling2D(pool_size=(2, 2)),\n",
    "            BatchNormalization(),\n",
    "\n",
    "            Conv2D(filters=32, kernel_size=(3, 3), padding='valid', kernel_regularizer=l2(0.00005)),\n",
    "            Activation('relu'),\n",
    "            MaxPooling2D(pool_size=(2, 2)),\n",
    "            BatchNormalization(),\n",
    "\n",
    "            Flatten(),\n",
    "\n",
    "            Dense(units=256, activation='relu'),\n",
    "            Dropout(0.5),\n",
    "            Dense(units=5, activation='softmax')\n",
    "        ])\n",
    "\n",
    "        return model"
   ]
  },
  {
   "cell_type": "code",
   "execution_count": 23,
   "id": "b77a1ab6",
   "metadata": {},
   "outputs": [],
   "source": [
    "cnn_model = create_model()"
   ]
  },
  {
   "cell_type": "code",
   "execution_count": 24,
   "id": "0fe51900",
   "metadata": {},
   "outputs": [
    {
     "name": "stdout",
     "output_type": "stream",
     "text": [
      "Model: \"sequential_2\"\n",
      "_________________________________________________________________\n",
      "Layer (type)                 Output Shape              Param #   \n",
      "=================================================================\n",
      "conv2d_6 (Conv2D)            (None, 146, 146, 128)     9728      \n",
      "_________________________________________________________________\n",
      "activation_6 (Activation)    (None, 146, 146, 128)     0         \n",
      "_________________________________________________________________\n",
      "max_pooling2d_6 (MaxPooling2 (None, 73, 73, 128)       0         \n",
      "_________________________________________________________________\n",
      "batch_normalization_6 (Batch (None, 73, 73, 128)       512       \n",
      "_________________________________________________________________\n",
      "conv2d_7 (Conv2D)            (None, 71, 71, 64)        73792     \n",
      "_________________________________________________________________\n",
      "activation_7 (Activation)    (None, 71, 71, 64)        0         \n",
      "_________________________________________________________________\n",
      "max_pooling2d_7 (MaxPooling2 (None, 35, 35, 64)        0         \n",
      "_________________________________________________________________\n",
      "batch_normalization_7 (Batch (None, 35, 35, 64)        256       \n",
      "_________________________________________________________________\n",
      "conv2d_8 (Conv2D)            (None, 33, 33, 32)        18464     \n",
      "_________________________________________________________________\n",
      "activation_8 (Activation)    (None, 33, 33, 32)        0         \n",
      "_________________________________________________________________\n",
      "max_pooling2d_8 (MaxPooling2 (None, 16, 16, 32)        0         \n",
      "_________________________________________________________________\n",
      "batch_normalization_8 (Batch (None, 16, 16, 32)        128       \n",
      "_________________________________________________________________\n",
      "flatten_2 (Flatten)          (None, 8192)              0         \n",
      "_________________________________________________________________\n",
      "dense_4 (Dense)              (None, 256)               2097408   \n",
      "_________________________________________________________________\n",
      "dropout_2 (Dropout)          (None, 256)               0         \n",
      "_________________________________________________________________\n",
      "dense_5 (Dense)              (None, 5)                 1285      \n",
      "=================================================================\n",
      "Total params: 2,201,573\n",
      "Trainable params: 2,201,125\n",
      "Non-trainable params: 448\n",
      "_________________________________________________________________\n",
      "None\n"
     ]
    }
   ],
   "source": [
    "print(cnn_model.summary())\n"
   ]
  },
  {
   "cell_type": "code",
   "execution_count": 25,
   "id": "c0332be3",
   "metadata": {},
   "outputs": [],
   "source": [
    "reduce_lr = ReduceLROnPlateau(monitor='val_loss', factor=np.sqrt(0.1), patience=5)\n"
   ]
  },
  {
   "cell_type": "code",
   "execution_count": 26,
   "id": "9c52c740",
   "metadata": {},
   "outputs": [],
   "source": [
    "optimizer = Adam(learning_rate=0.001)\n"
   ]
  },
  {
   "cell_type": "code",
   "execution_count": 27,
   "id": "a5672002",
   "metadata": {},
   "outputs": [],
   "source": [
    "cnn_model.compile(optimizer=optimizer, loss=CategoricalCrossentropy(), metrics=['accuracy'])\n"
   ]
  },
  {
   "cell_type": "code",
   "execution_count": null,
   "id": "17688a8e",
   "metadata": {},
   "outputs": [
    {
     "name": "stdout",
     "output_type": "stream",
     "text": [
      "Epoch 1/10\n",
      "192/192 - 68s - loss: 1.3459 - accuracy: 0.4032 - val_loss: 1.3872 - val_accuracy: 0.3656\n",
      "Epoch 2/10\n",
      "192/192 - 62s - loss: 1.3482 - accuracy: 0.4041 - val_loss: 1.3531 - val_accuracy: 0.3936\n",
      "Epoch 3/10\n",
      "192/192 - 64s - loss: 1.3467 - accuracy: 0.3940 - val_loss: 1.3726 - val_accuracy: 0.3840\n",
      "Epoch 4/10\n",
      "192/192 - 65s - loss: 1.3521 - accuracy: 0.3918 - val_loss: 1.3693 - val_accuracy: 0.3900\n",
      "Epoch 5/10\n",
      "192/192 - 64s - loss: 1.3353 - accuracy: 0.3991 - val_loss: 1.3853 - val_accuracy: 0.3604\n",
      "Epoch 6/10\n",
      "192/192 - 64s - loss: 1.3463 - accuracy: 0.4036 - val_loss: 1.3788 - val_accuracy: 0.3759\n",
      "Epoch 7/10\n",
      "192/192 - 64s - loss: 1.3467 - accuracy: 0.3955 - val_loss: 1.3735 - val_accuracy: 0.3752\n",
      "Epoch 8/10\n",
      "192/192 - 65s - loss: 1.3375 - accuracy: 0.4131 - val_loss: 1.3367 - val_accuracy: 0.4025\n",
      "Epoch 9/10\n",
      "192/192 - 65s - loss: 1.3261 - accuracy: 0.4155 - val_loss: 1.3437 - val_accuracy: 0.4025\n",
      "Epoch 10/10\n"
     ]
    }
   ],
   "source": [
    "history = cnn_model.fit(train_generator, epochs=10, validation_data=validation_generator,\n",
    "                       verbose=2,\n",
    "                       callbacks=[reduce_lr])"
   ]
  },
  {
   "cell_type": "code",
   "execution_count": null,
   "id": "94fe830b",
   "metadata": {},
   "outputs": [],
   "source": [
    "test_datagen = ImageDataGenerator(rescale=1.0/255)\n",
    "\n",
    "test_generator = test_datagen.flow_from_directory(test_dataset,\n",
    "                                                 shuffle=False,\n",
    "                                                 batch_size=BATCH_SIZE,\n",
    "                                                 target_size = (IMG_WIDTH, IMG_HEIGHT),\n",
    "                                                 class_mode='categorical')"
   ]
  },
  {
   "cell_type": "code",
   "execution_count": null,
   "id": "d85f54f6",
   "metadata": {},
   "outputs": [],
   "source": [
    "predictions = cnn_model.predict(test_generator)\n"
   ]
  },
  {
   "cell_type": "code",
   "execution_count": null,
   "id": "fed24348",
   "metadata": {},
   "outputs": [],
   "source": [
    "test_loss, test_accuracy = cnn_model.evaluate(test_generator, batch_size=BATCH_SIZE)\n"
   ]
  },
  {
   "cell_type": "code",
   "execution_count": null,
   "id": "77bf059d",
   "metadata": {},
   "outputs": [],
   "source": [
    "print(f\"Test Loss:     {test_loss}\")\n",
    "print(f\"Test Accuracy: {test_accuracy}\")"
   ]
  },
  {
   "cell_type": "code",
   "execution_count": null,
   "id": "c659a620",
   "metadata": {},
   "outputs": [],
   "source": [
    "import pickle\n",
    "pickle.dump(cnn_model, open('cnn_model.pkl', 'wb'))\n"
   ]
  }
 ],
 "metadata": {
  "kernelspec": {
   "display_name": "Python 3 (ipykernel)",
   "language": "python",
   "name": "python3"
  },
  "language_info": {
   "codemirror_mode": {
    "name": "ipython",
    "version": 3
   },
   "file_extension": ".py",
   "mimetype": "text/x-python",
   "name": "python",
   "nbconvert_exporter": "python",
   "pygments_lexer": "ipython3",
   "version": "3.9.12"
  }
 },
 "nbformat": 4,
 "nbformat_minor": 5
}
