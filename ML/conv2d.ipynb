{
  "cells": [
    {
      "cell_type": "code",
      "execution_count": null,
      "id": "fa33ed7b",
      "metadata": {
        "id": "fa33ed7b"
      },
      "outputs": [],
      "source": [
        "import numpy as np\n",
        "import matplotlib.pyplot as plt\n",
        "import seaborn as sns\n",
        "%matplotlib inline\n",
        "\n",
        "import cv2\n",
        "import os\n",
        "os.environ[\"TF_CPP_MIN_LOG_LEVEL\"] = \"2\"\n",
        "import warnings\n",
        "warnings.filterwarnings('ignore')\n",
        "\n",
        "from sklearn.metrics import confusion_matrix, classification_report\n",
        "\n",
        "import tensorflow as tf\n",
        "from tensorflow.keras.models import Sequential\n",
        "from tensorflow.keras.layers import Activation, BatchNormalization, Conv2D, Dense, Dropout, Flatten, MaxPooling2D\n",
        "from tensorflow.keras.preprocessing.image import ImageDataGenerator\n",
        "from tensorflow.keras.optimizers import Adam\n",
        "from tensorflow.keras.losses import CategoricalCrossentropy\n",
        "from tensorflow.keras.regularizers import l2\n",
        "from tensorflow.keras.callbacks import ReduceLROnPlateau, EarlyStopping"
      ]
    },
    {
      "cell_type": "code",
      "execution_count": null,
      "id": "cc935cb6",
      "metadata": {
        "id": "cc935cb6"
      },
      "outputs": [],
      "source": [
        "train_dataset_path = 'Train/'\n",
        "test_dataset = 'Test/'"
      ]
    },
    {
      "cell_type": "code",
      "execution_count": null,
      "id": "1ad07204",
      "metadata": {
        "id": "1ad07204"
      },
      "outputs": [],
      "source": [
        "IMG_WIDTH = 150\n",
        "IMG_HEIGHT = 150\n",
        "BATCH_SIZE = 32"
      ]
    },
    {
      "cell_type": "code",
      "execution_count": null,
      "id": "35613205",
      "metadata": {
        "id": "35613205",
        "outputId": "7624fcca-2dd5-4c6f-f300-cc0f3c7e39b8"
      },
      "outputs": [
        {
          "name": "stdout",
          "output_type": "stream",
          "text": [
            "Found 6144 images belonging to 5 classes.\n"
          ]
        }
      ],
      "source": [
        "train_datagen = ImageDataGenerator(rescale=1.0/255,\n",
        "                                  zoom_range=0.2,\n",
        "                                  width_shift_range=0.2,\n",
        "                                  height_shift_range=0.2,\n",
        "                                  fill_mode='nearest')\n",
        "train_generator = train_datagen.flow_from_directory(train_dataset_path,\n",
        "                                                   target_size=(IMG_WIDTH, IMG_HEIGHT),\n",
        "                                                   batch_size=BATCH_SIZE,\n",
        "                                                   class_mode='categorical',\n",
        "                                                   shuffle=True)"
      ]
    },
    {
      "cell_type": "code",
      "execution_count": null,
      "id": "16cca1c0",
      "metadata": {
        "id": "16cca1c0",
        "outputId": "5ed2de00-501f-4569-db40-0fd2012a9c42"
      },
      "outputs": [
        {
          "name": "stdout",
          "output_type": "stream",
          "text": [
            "Found 1354 images belonging to 5 classes.\n"
          ]
        }
      ],
      "source": [
        "validation_datagen = ImageDataGenerator(rescale=1.0/255)\n",
        "validation_generator = validation_datagen.flow_from_directory(test_dataset,\n",
        "                                                             target_size=(IMG_WIDTH, IMG_HEIGHT),\n",
        "                                                             batch_size=BATCH_SIZE,\n",
        "                                                             class_mode='categorical',\n",
        "                                                             shuffle=True)"
      ]
    },
    {
      "cell_type": "code",
      "execution_count": null,
      "id": "0d8fb9e1",
      "metadata": {
        "id": "0d8fb9e1",
        "outputId": "18b3e08b-7fd1-4145-e733-fd97cda06241"
      },
      "outputs": [
        {
          "name": "stdout",
          "output_type": "stream",
          "text": [
            "Label Mappings for classes present in the training and validation datasets\n",
            "\n",
            "0 : Cataract\n",
            "1 : Diabetes\n",
            "2 : Glaucoma\n",
            "3 : Normal\n",
            "4 : Other\n"
          ]
        }
      ],
      "source": [
        "labels = {value: key for key, value in train_generator.class_indices.items()}\n",
        "\n",
        "print(\"Label Mappings for classes present in the training and validation datasets\\n\")\n",
        "for key, value in labels.items():\n",
        "    print(f\"{key} : {value}\")"
      ]
    },
    {
      "cell_type": "code",
      "execution_count": null,
      "id": "7d421ced",
      "metadata": {
        "id": "7d421ced"
      },
      "outputs": [],
      "source": [
        "def create_model():\n",
        "    with tf.device('/gpu:0'):\n",
        "\n",
        "        model = Sequential([\n",
        "            Conv2D(filters=128, kernel_size=(5, 5), padding='valid', input_shape=(IMG_WIDTH, IMG_HEIGHT, 3)),\n",
        "            Activation('relu'),\n",
        "            MaxPooling2D(pool_size=(2, 2)),\n",
        "            BatchNormalization(),\n",
        "\n",
        "            Conv2D(filters=64, kernel_size=(3, 3), padding='valid', kernel_regularizer=l2(0.00005)),\n",
        "            Activation('relu'),\n",
        "            MaxPooling2D(pool_size=(2, 2)),\n",
        "            BatchNormalization(),\n",
        "\n",
        "            Conv2D(filters=32, kernel_size=(3, 3), padding='valid', kernel_regularizer=l2(0.00005)),\n",
        "            Activation('relu'),\n",
        "            MaxPooling2D(pool_size=(2, 2)),\n",
        "            BatchNormalization(),\n",
        "\n",
        "            Flatten(),\n",
        "\n",
        "            Dense(units=256, activation='relu'),\n",
        "            Dropout(0.5),\n",
        "            Dense(units=5, activation='softmax')\n",
        "        ])\n",
        "\n",
        "        return model"
      ]
    },
    {
      "cell_type": "code",
      "execution_count": null,
      "id": "b77a1ab6",
      "metadata": {
        "id": "b77a1ab6"
      },
      "outputs": [],
      "source": [
        "cnn_model = create_model()"
      ]
    },
    {
      "cell_type": "code",
      "execution_count": null,
      "id": "0fe51900",
      "metadata": {
        "id": "0fe51900",
        "outputId": "2ded49b7-6041-459d-b543-c5fde3567af2"
      },
      "outputs": [
        {
          "name": "stdout",
          "output_type": "stream",
          "text": [
            "Model: \"sequential_2\"\n",
            "_________________________________________________________________\n",
            "Layer (type)                 Output Shape              Param #   \n",
            "=================================================================\n",
            "conv2d_6 (Conv2D)            (None, 146, 146, 128)     9728      \n",
            "_________________________________________________________________\n",
            "activation_6 (Activation)    (None, 146, 146, 128)     0         \n",
            "_________________________________________________________________\n",
            "max_pooling2d_6 (MaxPooling2 (None, 73, 73, 128)       0         \n",
            "_________________________________________________________________\n",
            "batch_normalization_6 (Batch (None, 73, 73, 128)       512       \n",
            "_________________________________________________________________\n",
            "conv2d_7 (Conv2D)            (None, 71, 71, 64)        73792     \n",
            "_________________________________________________________________\n",
            "activation_7 (Activation)    (None, 71, 71, 64)        0         \n",
            "_________________________________________________________________\n",
            "max_pooling2d_7 (MaxPooling2 (None, 35, 35, 64)        0         \n",
            "_________________________________________________________________\n",
            "batch_normalization_7 (Batch (None, 35, 35, 64)        256       \n",
            "_________________________________________________________________\n",
            "conv2d_8 (Conv2D)            (None, 33, 33, 32)        18464     \n",
            "_________________________________________________________________\n",
            "activation_8 (Activation)    (None, 33, 33, 32)        0         \n",
            "_________________________________________________________________\n",
            "max_pooling2d_8 (MaxPooling2 (None, 16, 16, 32)        0         \n",
            "_________________________________________________________________\n",
            "batch_normalization_8 (Batch (None, 16, 16, 32)        128       \n",
            "_________________________________________________________________\n",
            "flatten_2 (Flatten)          (None, 8192)              0         \n",
            "_________________________________________________________________\n",
            "dense_4 (Dense)              (None, 256)               2097408   \n",
            "_________________________________________________________________\n",
            "dropout_2 (Dropout)          (None, 256)               0         \n",
            "_________________________________________________________________\n",
            "dense_5 (Dense)              (None, 5)                 1285      \n",
            "=================================================================\n",
            "Total params: 2,201,573\n",
            "Trainable params: 2,201,125\n",
            "Non-trainable params: 448\n",
            "_________________________________________________________________\n",
            "None\n"
          ]
        }
      ],
      "source": [
        "print(cnn_model.summary())\n"
      ]
    },
    {
      "cell_type": "code",
      "execution_count": null,
      "id": "c0332be3",
      "metadata": {
        "id": "c0332be3"
      },
      "outputs": [],
      "source": [
        "reduce_lr = ReduceLROnPlateau(monitor='val_loss', factor=np.sqrt(0.1), patience=5)\n"
      ]
    },
    {
      "cell_type": "code",
      "execution_count": null,
      "id": "9c52c740",
      "metadata": {
        "id": "9c52c740"
      },
      "outputs": [],
      "source": [
        "optimizer = Adam(learning_rate=0.001)\n"
      ]
    },
    {
      "cell_type": "code",
      "execution_count": null,
      "id": "a5672002",
      "metadata": {
        "id": "a5672002"
      },
      "outputs": [],
      "source": [
        "cnn_model.compile(optimizer=optimizer, loss=CategoricalCrossentropy(), metrics=['accuracy'])\n"
      ]
    },
    {
      "cell_type": "code",
      "execution_count": null,
      "id": "17688a8e",
      "metadata": {
        "id": "17688a8e",
        "outputId": "f50644b4-80da-458b-d0b0-e81c286a3b5b"
      },
      "outputs": [
        {
          "name": "stdout",
          "output_type": "stream",
          "text": [
            "Epoch 1/10\n",
            "192/192 - 68s - loss: 1.3459 - accuracy: 0.4032 - val_loss: 1.3872 - val_accuracy: 0.3656\n",
            "Epoch 2/10\n",
            "192/192 - 62s - loss: 1.3482 - accuracy: 0.4041 - val_loss: 1.3531 - val_accuracy: 0.3936\n",
            "Epoch 3/10\n",
            "192/192 - 64s - loss: 1.3467 - accuracy: 0.3940 - val_loss: 1.3726 - val_accuracy: 0.3840\n",
            "Epoch 4/10\n",
            "192/192 - 65s - loss: 1.3521 - accuracy: 0.3918 - val_loss: 1.3693 - val_accuracy: 0.3900\n",
            "Epoch 5/10\n",
            "192/192 - 64s - loss: 1.3353 - accuracy: 0.3991 - val_loss: 1.3853 - val_accuracy: 0.3604\n",
            "Epoch 6/10\n",
            "192/192 - 64s - loss: 1.3463 - accuracy: 0.4036 - val_loss: 1.3788 - val_accuracy: 0.3759\n",
            "Epoch 7/10\n",
            "192/192 - 64s - loss: 1.3467 - accuracy: 0.3955 - val_loss: 1.3735 - val_accuracy: 0.3752\n",
            "Epoch 8/10\n",
            "192/192 - 65s - loss: 1.3375 - accuracy: 0.4131 - val_loss: 1.3367 - val_accuracy: 0.4025\n",
            "Epoch 9/10\n",
            "192/192 - 65s - loss: 1.3261 - accuracy: 0.4155 - val_loss: 1.3437 - val_accuracy: 0.4025\n",
            "Epoch 10/10\n",
            "192/192 - 65s - loss: 1.3231 - accuracy: 0.4124 - val_loss: 1.3421 - val_accuracy: 0.4010\n"
          ]
        }
      ],
      "source": [
        "history = cnn_model.fit(train_generator, epochs=10, validation_data=validation_generator,\n",
        "                       verbose=2,\n",
        "                       callbacks=[reduce_lr])"
      ]
    },
    {
      "cell_type": "code",
      "execution_count": null,
      "id": "94fe830b",
      "metadata": {
        "id": "94fe830b",
        "outputId": "6d964546-2120-4eb6-da8b-01a0ff685b00"
      },
      "outputs": [
        {
          "name": "stdout",
          "output_type": "stream",
          "text": [
            "Found 1354 images belonging to 5 classes.\n"
          ]
        }
      ],
      "source": [
        "test_datagen = ImageDataGenerator(rescale=1.0/255)\n",
        "\n",
        "test_generator = test_datagen.flow_from_directory(test_dataset,\n",
        "                                                 shuffle=False,\n",
        "                                                 batch_size=BATCH_SIZE,\n",
        "                                                 target_size = (IMG_WIDTH, IMG_HEIGHT),\n",
        "                                                 class_mode='categorical')"
      ]
    },
    {
      "cell_type": "code",
      "execution_count": null,
      "id": "d85f54f6",
      "metadata": {
        "id": "d85f54f6"
      },
      "outputs": [],
      "source": [
        "predictions = cnn_model.predict(test_generator)\n"
      ]
    },
    {
      "cell_type": "code",
      "execution_count": null,
      "id": "fed24348",
      "metadata": {
        "id": "fed24348",
        "outputId": "263a9009-b263-453b-8b24-21f915fb43ed"
      },
      "outputs": [
        {
          "name": "stdout",
          "output_type": "stream",
          "text": [
            "43/43 [==============================] - 4s 83ms/step - loss: 1.3421 - accuracy: 0.4010\n"
          ]
        }
      ],
      "source": [
        "test_loss, test_accuracy = cnn_model.evaluate(test_generator, batch_size=BATCH_SIZE)\n"
      ]
    },
    {
      "cell_type": "code",
      "execution_count": null,
      "id": "77bf059d",
      "metadata": {
        "id": "77bf059d",
        "outputId": "9af74162-168f-4f4e-8570-d9125988169b"
      },
      "outputs": [
        {
          "name": "stdout",
          "output_type": "stream",
          "text": [
            "Test Loss:     1.3421422243118286\n",
            "Test Accuracy: 0.4010339677333832\n"
          ]
        }
      ],
      "source": [
        "print(f\"Test Loss:     {test_loss}\")\n",
        "print(f\"Test Accuracy: {test_accuracy}\")"
      ]
    },
    {
      "cell_type": "code",
      "execution_count": null,
      "id": "c659a620",
      "metadata": {
        "id": "c659a620"
      },
      "outputs": [],
      "source": [
        "import pickle\n",
        "pickle.dump(cnn_model, open('cnn_model.pkl', 'wb'))\n"
      ]
    },
    {
      "cell_type": "markdown",
      "source": [
        "#YUCK!!!"
      ],
      "metadata": {
        "id": "brfn5Lc7uCFN"
      },
      "id": "brfn5Lc7uCFN"
    },
    {
      "cell_type": "code",
      "source": [
        ""
      ],
      "metadata": {
        "id": "z47yGqX5uEx-"
      },
      "id": "z47yGqX5uEx-",
      "execution_count": null,
      "outputs": []
    }
  ],
  "metadata": {
    "kernelspec": {
      "display_name": "Python 3 (ipykernel)",
      "language": "python",
      "name": "python3"
    },
    "language_info": {
      "codemirror_mode": {
        "name": "ipython",
        "version": 3
      },
      "file_extension": ".py",
      "mimetype": "text/x-python",
      "name": "python",
      "nbconvert_exporter": "python",
      "pygments_lexer": "ipython3",
      "version": "3.9.12"
    },
    "colab": {
      "name": "conv2d.ipynb",
      "provenance": []
    }
  },
  "nbformat": 4,
  "nbformat_minor": 5
}