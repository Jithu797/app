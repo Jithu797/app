{
 "cells": [
  {
   "cell_type": "code",
   "execution_count": 77,
   "id": "ab3e15b9",
   "metadata": {},
   "outputs": [],
   "source": [
    "import os"
   ]
  },
  {
   "cell_type": "code",
   "execution_count": 78,
   "id": "5fc8c5db",
   "metadata": {},
   "outputs": [],
   "source": [
    "BASE_DIR = \"./EyE/\"\n",
    "if not(os.path.isdir(BASE_DIR)):\n",
    "    os.mkdir(BASE_DIR)\n",
    "    os.mkdir(os.path.join(BASE_DIR, 'Train'))\n",
    "    os.mkdir(os.path.join(BASE_DIR, 'Validation'))"
   ]
  },
  {
   "cell_type": "code",
   "execution_count": 79,
   "id": "66c36014",
   "metadata": {},
   "outputs": [],
   "source": [
    "TRAIN_DIR = f\"./{BASE_DIR}/Train/\"\n",
    "VALID_DIR = f\"./{BASE_DIR}/Validation/\"\n",
    "\n",
    "categories = ['Normal', 'Diabetes', 'Glaucoma', 'Cataract', 'Other']\n",
    "#make a folder for each category\n",
    "for category in categories:\n",
    "    if not(os.path.isdir(os.path.join(TRAIN_DIR, category))):\n",
    "        os.mkdir(os.path.join(TRAIN_DIR, category))\n",
    "        os.mkdir(os.path.join(VALID_DIR, category))"
   ]
  },
  {
   "cell_type": "code",
   "execution_count": 68,
   "id": "a06bdbee",
   "metadata": {},
   "outputs": [],
   "source": [
    "import pandas as pd"
   ]
  },
  {
   "cell_type": "code",
   "execution_count": 16,
   "id": "1e1f5cb3",
   "metadata": {},
   "outputs": [],
   "source": [
    "data = pd.read_csv('./Ocular Dataset/full_df.csv')"
   ]
  },
  {
   "cell_type": "code",
   "execution_count": 7,
   "id": "0d24b73d",
   "metadata": {},
   "outputs": [
    {
     "data": {
      "text/plain": [
       "'../input/ocular-disease-recognition-odir5k/ODIR-5K/Training Images/0_right.jpg'"
      ]
     },
     "execution_count": 7,
     "metadata": {},
     "output_type": "execute_result"
    }
   ],
   "source": [
    "data.head()['filepath'][0]"
   ]
  },
  {
   "cell_type": "code",
   "execution_count": 80,
   "id": "efd975bc",
   "metadata": {},
   "outputs": [],
   "source": [
    "SOURCE_DIR = './Ocular Dataset/preprocessed_images/'"
   ]
  },
  {
   "cell_type": "code",
   "execution_count": 81,
   "id": "808208f6",
   "metadata": {},
   "outputs": [],
   "source": [
    "import shutil\n",
    "import tqdm"
   ]
  },
  {
   "cell_type": "code",
   "execution_count": 82,
   "id": "4281ae30",
   "metadata": {},
   "outputs": [
    {
     "name": "stderr",
     "output_type": "stream",
     "text": [
      "100%|█████████████████████████████████████████████████████████████████████████████| 6392/6392 [00:53<00:00, 119.65it/s]\n"
     ]
    }
   ],
   "source": [
    "key = ['cataract', 'glaucoma', 'retinopathy', 'normal']\n",
    "for i in tqdm.tqdm(range(len(data))):\n",
    "    filename = str(data.iloc[i]['Left-Fundus'])\n",
    "    diagnose = str(data.iloc[i]['Left-Diagnostic Keywords'])\n",
    "    if(os.path.isfile(SOURCE_DIR + filename)):\n",
    "        if 'cataract' in diagnose:\n",
    "            shutil.copy(SOURCE_DIR + filename, f'{BASE_DIR}Train/Cataract/')\n",
    "        if 'glaucoma' in diagnose:\n",
    "            shutil.copy(SOURCE_DIR + filename, f'{BASE_DIR}Train/Glaucoma/')\n",
    "        if 'retinopathy' in diagnose:\n",
    "            shutil.copy(SOURCE_DIR + filename, f'{BASE_DIR}Train/Diabetes/')\n",
    "        if 'normal' in diagnose:\n",
    "            shutil.copy(SOURCE_DIR + filename, f'{BASE_DIR}Train/Normal/')\n",
    "        if not(set(key) & set(diagnose.split(' '))):\n",
    "            shutil.copy(SOURCE_DIR + filename, f'{BASE_DIR}Train/Other/')\n",
    "        "
   ]
  },
  {
   "cell_type": "code",
   "execution_count": 57,
   "id": "7fda6b45",
   "metadata": {},
   "outputs": [
    {
     "data": {
      "text/plain": [
       "True"
      ]
     },
     "execution_count": 57,
     "metadata": {},
     "output_type": "execute_result"
    }
   ],
   "source": [
    "os.path.isfile(SOURCE_DIR + '1_left.jpg')"
   ]
  },
  {
   "cell_type": "code",
   "execution_count": 83,
   "id": "88dfa79a",
   "metadata": {},
   "outputs": [
    {
     "name": "stderr",
     "output_type": "stream",
     "text": [
      "100%|█████████████████████████████████████████████████████████████████████████████| 6392/6392 [00:51<00:00, 124.44it/s]\n"
     ]
    }
   ],
   "source": [
    "key = ['cataract', 'glaucoma', 'retinopathy', 'normal']\n",
    "for i in tqdm.tqdm(range(len(data))):\n",
    "    filename = str(data.iloc[i]['Right-Fundus'])\n",
    "    diagnose = str(data.iloc[i]['Right-Diagnostic Keywords'])\n",
    "    if(os.path.isfile(SOURCE_DIR + filename)):\n",
    "        if 'cataract' in diagnose:\n",
    "            shutil.copy(SOURCE_DIR + filename, f'{BASE_DIR}Train/Cataract/')\n",
    "        if 'glaucoma' in diagnose:\n",
    "            shutil.copy(SOURCE_DIR + filename, f'{BASE_DIR}Train/Glaucoma/')\n",
    "        if 'retinopathy' in diagnose:\n",
    "            shutil.copy(SOURCE_DIR + filename, f'{BASE_DIR}Train/Diabetes/')\n",
    "        if 'normal' in diagnose:\n",
    "            shutil.copy(SOURCE_DIR + filename, f'{BASE_DIR}Train/Normal/')\n",
    "        if not(set(key) & set(diagnose.split(' '))):\n",
    "            shutil.copy(SOURCE_DIR + filename, f'{BASE_DIR}Train/Other/')\n",
    "        "
   ]
  },
  {
   "cell_type": "code",
   "execution_count": 84,
   "id": "e3f8bca5",
   "metadata": {},
   "outputs": [
    {
     "name": "stderr",
     "output_type": "stream",
     "text": [
      "100%|███████████████████████████████████████████████████████████████████████████████| 862/862 [00:01<00:00, 457.36it/s]\n",
      "100%|███████████████████████████████████████████████████████████████████████████████| 559/559 [00:01<00:00, 504.82it/s]\n",
      "100%|█████████████████████████████████████████████████████████████████████████████████| 93/93 [00:00<00:00, 604.27it/s]\n",
      "100%|█████████████████████████████████████████████████████████████████████████████████| 90/90 [00:00<00:00, 448.04it/s]\n",
      "100%|███████████████████████████████████████████████████████████████████████████████| 406/406 [00:01<00:00, 298.14it/s]\n"
     ]
    }
   ],
   "source": [
    "import random\n",
    "#move 20% from each category into validation\n",
    "for category in categories:\n",
    "    SOURCE = f'./{BASE_DIR}/Train/{category}/'\n",
    "    DEST = f'./{BASE_DIR}/Validation/{category}/'\n",
    "    files = os.listdir(SOURCE)\n",
    "    valid_images = random.sample(files, k=int(len(files)*30/100))\n",
    "    for image in tqdm.tqdm(valid_images):\n",
    "        shutil.move(SOURCE + image, DEST)"
   ]
  },
  {
   "cell_type": "code",
   "execution_count": 85,
   "id": "075a5090",
   "metadata": {},
   "outputs": [
    {
     "name": "stdout",
     "output_type": "stream",
     "text": [
      "Train Set\n",
      "\n",
      "Normal: 2014\n",
      "Diabetes: 1306\n",
      "Glaucoma: 220\n",
      "Cataract: 211\n",
      "Other: 950\n"
     ]
    }
   ],
   "source": [
    "print(\"Train Set\\n\")\n",
    "BASE_DIR = \"./EyE/\"\n",
    "categories = ['Normal', 'Diabetes', 'Glaucoma', 'Cataract', 'Other']\n",
    "for category in categories:\n",
    "    length = len(os.listdir(f'./{BASE_DIR}/Train/{category}/'))\n",
    "    print(f'{category}: {length}')"
   ]
  },
  {
   "cell_type": "code",
   "execution_count": 86,
   "id": "50134e6b",
   "metadata": {},
   "outputs": [
    {
     "name": "stdout",
     "output_type": "stream",
     "text": [
      "Valid Set\n",
      "\n",
      "Normal: 862\n",
      "Diabetes: 559\n",
      "Glaucoma: 93\n",
      "Cataract: 90\n",
      "Other: 406\n"
     ]
    }
   ],
   "source": [
    "print(\"Valid Set\\n\")\n",
    "for category in categories:\n",
    "    length = len(os.listdir(f'./{BASE_DIR}/Validation/{category}/'))\n",
    "    print(f'{category}: {length}')"
   ]
  },
  {
   "cell_type": "code",
   "execution_count": null,
   "id": "2b6f9d82",
   "metadata": {},
   "outputs": [],
   "source": []
  }
 ],
 "metadata": {
  "kernelspec": {
   "display_name": "Python 3 (ipykernel)",
   "language": "python",
   "name": "python3"
  },
  "language_info": {
   "codemirror_mode": {
    "name": "ipython",
    "version": 3
   },
   "file_extension": ".py",
   "mimetype": "text/x-python",
   "name": "python",
   "nbconvert_exporter": "python",
   "pygments_lexer": "ipython3",
   "version": "3.10.5"
  }
 },
 "nbformat": 4,
 "nbformat_minor": 5
}
