{
 "cells": [
  {
   "cell_type": "code",
   "execution_count": 1,
   "id": "bdfcc422",
   "metadata": {},
   "outputs": [],
   "source": [
    "import os"
   ]
  },
  {
   "cell_type": "code",
   "execution_count": 12,
   "id": "b0f105b6",
   "metadata": {},
   "outputs": [],
   "source": [
    "BASE_DIR = \"./EyeDiseases/\"\n",
    "if not(os.path.isdir(BASE_DIR)):\n",
    "    os.mkdir(BASE_DIR)\n",
    "    os.mkdir(os.path.join(BASE_DIR, 'Train'))\n",
    "    os.mkdir(os.path.join(BASE_DIR, 'Validation'))"
   ]
  },
  {
   "cell_type": "code",
   "execution_count": 3,
   "id": "03d2f1c8",
   "metadata": {},
   "outputs": [],
   "source": [
    "TRAIN_DIR = f\"./{BASE_DIR}/Train/\"\n",
    "VALID_DIR = f\"./{BASE_DIR}/Validation/\"\n",
    "\n",
    "categories = ['Normal', 'Diabetes', 'Glaucoma', 'Cataract', 'Other']\n",
    "#make a folder for each category\n",
    "for category in categories:\n",
    "    if not(os.path.isdir(os.path.join(TRAIN_DIR, category))):\n",
    "        os.mkdir(os.path.join(TRAIN_DIR, category))\n",
    "        os.mkdir(os.path.join(VALID_DIR, category))"
   ]
  },
  {
   "cell_type": "code",
   "execution_count": 4,
   "id": "a19e6326",
   "metadata": {},
   "outputs": [],
   "source": [
    "import pandas as pd"
   ]
  },
  {
   "cell_type": "code",
   "execution_count": 5,
   "id": "b69737c1",
   "metadata": {},
   "outputs": [],
   "source": [
    "data = pd.read_csv('./Ocular Dataset/full_df.csv')"
   ]
  },
  {
   "cell_type": "code",
   "execution_count": 6,
   "id": "09bd63ea",
   "metadata": {},
   "outputs": [],
   "source": [
    "SOURCE_DIR = './Ocular Dataset/preprocessed_images/'"
   ]
  },
  {
   "cell_type": "code",
   "execution_count": 7,
   "id": "33b6b95f",
   "metadata": {},
   "outputs": [],
   "source": [
    "import shutil"
   ]
  },
  {
   "cell_type": "code",
   "execution_count": 8,
   "id": "59d65e65",
   "metadata": {},
   "outputs": [
    {
     "name": "stderr",
     "output_type": "stream",
     "text": [
      "100%|██████████████████████████████████████████████████████████████████████████████| 6392/6392 [01:53<00:00, 56.39it/s]\n"
     ]
    }
   ],
   "source": [
    "from tqdm import tqdm\n",
    "#grouping the images into their respective disease type/folder\n",
    "for i in tqdm(range(len(data))):\n",
    "    filename = str(data.iloc[i]['filename'])\n",
    "    if data.iloc[i]['N'] == 1:\n",
    "        shutil.copy(SOURCE_DIR + filename, f'{BASE_DIR}Train/Normal/')\n",
    "        \n",
    "    if data.iloc[i]['D'] == 1:\n",
    "        shutil.copy(SOURCE_DIR + filename, f'{BASE_DIR}Train/Diabetes/')\n",
    "        \n",
    "    if data.iloc[i]['G'] == 1:\n",
    "        shutil.copy(SOURCE_DIR + filename, f'{BASE_DIR}Train/Glaucoma/')\n",
    "        \n",
    "    if data.iloc[i]['C'] == 1:\n",
    "        shutil.copy(SOURCE_DIR + filename, f'{BASE_DIR}Train/Cataract/')\n",
    "        \n",
    "    if data.iloc[i]['O'] == 1:\n",
    "        shutil.copy(SOURCE_DIR + filename, f'{BASE_DIR}Train/Other/')"
   ]
  },
  {
   "cell_type": "code",
   "execution_count": 9,
   "id": "7c239400",
   "metadata": {},
   "outputs": [
    {
     "name": "stderr",
     "output_type": "stream",
     "text": [
      "100%|███████████████████████████████████████████████████████████████████████████████| 420/420 [00:00<00:00, 464.45it/s]\n",
      "100%|███████████████████████████████████████████████████████████████████████████████| 424/424 [00:00<00:00, 487.18it/s]\n",
      "100%|█████████████████████████████████████████████████████████████████████████████████| 79/79 [00:00<00:00, 401.26it/s]\n",
      "100%|█████████████████████████████████████████████████████████████████████████████████| 80/80 [00:00<00:00, 452.26it/s]\n",
      "100%|███████████████████████████████████████████████████████████████████████████████| 317/317 [00:00<00:00, 466.47it/s]\n"
     ]
    }
   ],
   "source": [
    "import random\n",
    "#move 20% from each category into validation\n",
    "for category in categories:\n",
    "    SOURCE = f'./{BASE_DIR}/Train/{category}/'\n",
    "    DEST = f'./{BASE_DIR}/Validation/{category}/'\n",
    "    files = os.listdir(SOURCE)\n",
    "    valid_images = random.sample(files, k=int(len(files)*20/100))\n",
    "    for image in tqdm(valid_images):\n",
    "        shutil.move(SOURCE + image, DEST)"
   ]
  },
  {
   "cell_type": "code",
   "execution_count": 13,
   "id": "0694ec5d",
   "metadata": {},
   "outputs": [
    {
     "name": "stdout",
     "output_type": "stream",
     "text": [
      "Train Set\n",
      "\n",
      "Normal: 1681\n",
      "Diabetes: 1699\n",
      "Glaucoma: 318\n",
      "Cataract: 322\n",
      "Other: 1271\n"
     ]
    }
   ],
   "source": [
    "print(\"Train Set\\n\")\n",
    "categories = ['Normal', 'Diabetes', 'Glaucoma', 'Cataract', 'Other']\n",
    "for category in categories:\n",
    "    length = len(os.listdir(f'./{BASE_DIR}/Train/{category}/'))\n",
    "    print(f'{category}: {length}')"
   ]
  },
  {
   "cell_type": "code",
   "execution_count": 14,
   "id": "612af776",
   "metadata": {},
   "outputs": [
    {
     "name": "stdout",
     "output_type": "stream",
     "text": [
      "Valid Set\n",
      "\n",
      "Normal: 420\n",
      "Diabetes: 424\n",
      "Glaucoma: 79\n",
      "Cataract: 80\n",
      "Other: 317\n"
     ]
    }
   ],
   "source": [
    "print(\"Valid Set\\n\")\n",
    "for category in categories:\n",
    "    length = len(os.listdir(f'./{BASE_DIR}/Validation/{category}/'))\n",
    "    print(f'{category}: {length}')"
   ]
  },
  {
   "cell_type": "code",
   "execution_count": null,
   "id": "d39c1a6d",
   "metadata": {},
   "outputs": [],
   "source": []
  }
 ],
 "metadata": {
  "kernelspec": {
   "display_name": "Python 3 (ipykernel)",
   "language": "python",
   "name": "python3"
  },
  "language_info": {
   "codemirror_mode": {
    "name": "ipython",
    "version": 3
   },
   "file_extension": ".py",
   "mimetype": "text/x-python",
   "name": "python",
   "nbconvert_exporter": "python",
   "pygments_lexer": "ipython3",
   "version": "3.10.5"
  }
 },
 "nbformat": 4,
 "nbformat_minor": 5
}
